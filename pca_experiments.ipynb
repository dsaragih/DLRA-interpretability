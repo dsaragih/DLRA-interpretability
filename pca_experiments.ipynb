{
 "cells": [
  {
   "cell_type": "code",
   "execution_count": 1,
   "metadata": {},
   "outputs": [],
   "source": [
    "# Import torch, torchvision and other libraries\n",
    "import torch\n",
    "import torch.nn.functional as F\n",
    "import torchvision\n",
    "\n",
    "import numpy as np\n",
    "import matplotlib.pyplot as plt"
   ]
  },
  {
   "cell_type": "code",
   "execution_count": 2,
   "metadata": {},
   "outputs": [],
   "source": [
    "from matplotlib.animation import FuncAnimation, PillowWriter\n",
    "from functools import partial"
   ]
  },
  {
   "cell_type": "code",
   "execution_count": 39,
   "metadata": {},
   "outputs": [
    {
     "data": {
      "image/png": "[encoded data removed]",
      "text/plain": [
       "<Figure size 640x480 with 1 Axes>"
      ]
     },
     "metadata": {},
     "output_type": "display_data"
    }
   ],
   "source": [
    "g = 9.81  # Acceleration due to gravity (m/s^2)\n",
    "l = 1.0   # Length of the pendulum (m)\n",
    "theta = np.pi / 4  # Initial angle (radians)\n",
    "omega = 0.0        # Initial angular velocity (rad/s)\n",
    "dt = 0.01          # Time step (s)\n",
    "\n",
    "# Initialize figure and axis\n",
    "fig, ax = plt.subplots()\n",
    "ax.set_xlim(-1.2 * l, 1.2 * l)\n",
    "ax.set_ylim(-1.2 * l, 0.6 * l)\n",
    "ax.set_aspect('equal')\n",
    "ax.axis('off')\n",
    "\n",
    "# Create a line to represent the pendulum\n",
    "line, = ax.plot([], [], lw=2)\n",
    "\n",
    "# Function to initialize the animation\n",
    "def init():\n",
    "    line.set_data([], [])\n",
    "    return line,\n",
    "\n",
    "# Parameters for the Gaussian sampling\n",
    "N = 100  # Number of points to sample per frame\n",
    "sigma = 0.2  # Standard deviation of the Gaussian noise\n",
    "\n",
    "# Initialize the data matrix\n",
    "num_frames = 200\n",
    "data_matrix = np.zeros((N, num_frames, 2))\n",
    "\n",
    "# Function to update the animation and generate sampled points\n",
    "def update_with_sampling(frame):\n",
    "    global theta, omega\n",
    "    alpha = -g / l * np.sin(theta)  # Angular acceleration\n",
    "    omega += alpha * dt            # Update angular velocity\n",
    "    theta += omega * dt            # Update angle\n",
    "\n",
    "    # Calculate pendulum position\n",
    "    x = l * np.sin(theta)\n",
    "    y = -l * np.cos(theta)\n",
    "    line.set_data([0, x], [0, y])\n",
    "\n",
    "    # Sample N points around the pendulum position\n",
    "    lengths = np.random.uniform(0, l, size=N)  # Random distances along the string\n",
    "    angles = np.random.normal(loc=theta, scale=sigma, size=N)  # Small angular deviations\n",
    "    sampled_x = lengths * np.sin(angles)\n",
    "    sampled_y = -lengths * np.cos(angles)\n",
    "    sampled_points = np.stack((sampled_x, sampled_y), axis=1)\n",
    "    data_matrix[:, frame, :] = sampled_points\n",
    "\n",
    "    return line,\n",
    "\n",
    "lengths = np.random.uniform(0, l, size=N)  # Random distances along the string\n",
    "angles = np.random.normal(loc=theta, scale=sigma, size=N)  # Small angular deviations\n",
    "angle_matrix = np.zeros((N, num_frames))\n",
    "angle_matrix[:, 0] = angles\n",
    "\n",
    "def update_with_single_sampling(frame):\n",
    "    global theta, omega\n",
    "    alpha = -g / l * np.sin(theta)  # Angular acceleration\n",
    "    omega += alpha * dt            # Update angular velocity\n",
    "    theta += omega * dt            # Update angle\n",
    "\n",
    "    # Calculate pendulum position\n",
    "    x = l * np.sin(theta)\n",
    "    y = -l * np.cos(theta)\n",
    "    line.set_data([0, x], [0, y])\n",
    "\n",
    "    # Evolve the angle_matrix\n",
    "    if frame > 0:\n",
    "        prev_angle = angle_matrix[:, frame - 1]\n",
    "        new_angle = prev_angle + omega * dt\n",
    "        angle_matrix[:, frame] = new_angle\n",
    "        # if frame % 10 == 0:\n",
    "        #     print(f'Frame {frame}: {new_angle[:5]}')\n",
    "\n",
    "    return line,\n",
    "\n",
    "# Create the animation\n",
    "# update_fn = partial(update_with_single_sampling, theta=theta, omega=omega, angle_matrix=angle_matrix)\n",
    "ani = FuncAnimation(fig, update_with_single_sampling, frames=range(num_frames), init_func=init, blit=False, interval=dt * 1000)\n",
    "\n",
    "\n",
    "plt.show()\n",
    "ani.save('pendulum.gif', writer='pillow', fps=20)\n",
    "np.save('pendulum.npy', data_matrix)"
   ]
  },
  {
   "cell_type": "code",
   "execution_count": 40,
   "metadata": {},
   "outputs": [
    {
     "name": "stdout",
     "output_type": "stream",
     "text": [
      "Frame 0: [0.06181003 0.26817835 0.25951586 0.30907042 0.4238709 ]\n",
      "Frame 1: [0.0617175  0.26793794 0.25907791 0.30867375 0.42294986]\n",
      "Frame 2: [0.06157856 0.26757657 0.25842043 0.30807798 0.42156758]\n",
      "Frame 3: [0.06139304 0.26709335 0.25754277 0.3072822  0.4197232 ]\n",
      "Frame 4: [0.06116073 0.26648707 0.25644407 0.3062852  0.41741563]\n",
      "Saved pendulum.npy\n"
     ]
    }
   ],
   "source": [
    "# Use angle_matrix to get data_matrix\n",
    "for i in range(num_frames):\n",
    "    x = lengths * np.sin(angle_matrix[:, i])\n",
    "    y = -lengths * np.cos(angle_matrix[:, i])\n",
    "    if i < 5:\n",
    "        print(f'Frame {i}: {x[:5]}')\n",
    "    data_matrix[:, i, :] = np.stack((x, y), axis=1)\n",
    "\n",
    "np.save('pendulum.npy', data_matrix)\n",
    "print('Saved pendulum.npy')"
   ]
  },
  {
   "cell_type": "code",
   "execution_count": 41,
   "metadata": {},
   "outputs": [
    {
     "data": {
      "image/png": "[encoded data removed]",
      "text/plain": [
       "<Figure size 640x480 with 1 Axes>"
      ]
     },
     "metadata": {},
     "output_type": "display_data"
    }
   ],
   "source": [
    "# Load the data matrix and visualize the sampled points\n",
    "data_matrix = np.load('pendulum.npy')\n",
    "fig, ax = plt.subplots()\n",
    "ax.set_xlim(-1.2 * l, 1.2 * l)\n",
    "ax.set_ylim(-1.2 * l, 0.6 * l)\n",
    "ax.set_aspect('equal')\n",
    "ax.axis('off')\n",
    "\n",
    "# Create a scatter plot to visualize the sampled points\n",
    "scat = ax.scatter([], [], s=2)\n",
    "\n",
    "# Function to initialize the animation\n",
    "def init(): \n",
    "    return scat,\n",
    "\n",
    "# Function to update the animation\n",
    "def update(frame):\n",
    "    scat.set_offsets(data_matrix[:, frame, :])\n",
    "    return scat,\n",
    "\n",
    "# Create the animation\n",
    "ani = FuncAnimation(fig, update, frames=range(num_frames), init_func=init, blit=False, interval=dt * 1000)\n",
    "plt.show()\n",
    "ani.save('pendulum_sampling.gif', writer='pillow', fps=20)\n"
   ]
  },
  {
   "cell_type": "code",
   "execution_count": null,
   "metadata": {},
   "outputs": [
    {
     "data": {
      "text/plain": [
       "<Figure size 1200x800 with 0 Axes>"
      ]
     },
     "metadata": {},
     "output_type": "display_data"
    }
   ],
   "source": [
    "# Compute pointwise pca of data_matrix at each frame\n",
    "from sklearn.decomposition import PCA\n",
    "\n",
    "pca = PCA(n_components=1)\n",
    "rank1_approximations = np.zeros((N, num_frames, 2))\n",
    "for i in range(num_frames):\n",
    "    frame_data = data_matrix[:, i, :]\n",
    "    pca.fit(frame_data)\n",
    "    rank1_approximations[:, i, :] = pca.mean_ + pca.components_[0] * pca.transform(frame_data)\n"
   ]
  },
  {
   "cell_type": "code",
   "execution_count": 35,
   "metadata": {},
   "outputs": [
    {
     "data": {
      "text/plain": [
       "<Figure size 1200x800 with 0 Axes>"
      ]
     },
     "metadata": {},
     "output_type": "display_data"
    }
   ],
   "source": [
    "def video_plot(n_plots, approximations, data_matrix, num_frames, fname='pendulum_sampling'):\n",
    "    frame_to_display = np.linspace(0, num_frames - 1, n_plots).astype(int) / num_frames\n",
    "    plt.figure(figsize=(12, 8))\n",
    "\n",
    "    for i, frame in enumerate(frame_to_display):\n",
    "        plt.figure(figsize=(12, 8))\n",
    "        plt.xlim(-l,  l)\n",
    "        plt.ylim(-l, 0.3 * l)\n",
    "        plt.axis('off')\n",
    "        plt.scatter(data_matrix[:, int(frame * num_frames), 0], data_matrix[:, int(frame * num_frames), 1], s=6, label='Original')\n",
    "        plt.scatter(approximations[:, int(frame * num_frames), 0], approximations[:, int(frame * num_frames), 1], s=6, label='Rank-1 Approximation')\n",
    "        plt.legend()\n",
    "        plt.savefig(f'./figures/{fname}_{i}.png')\n",
    "        plt.close()\n",
    "\n",
    "video_plot(10, rank1_approximations, data_matrix, num_frames)"
   ]
  },
  {
   "cell_type": "code",
   "execution_count": 51,
   "metadata": {},
   "outputs": [
    {
     "name": "stdout",
     "output_type": "stream",
     "text": [
      "[[-0.27150752  0.96243632]]\n",
      "(100, 2) (2,) (2, 2)\n",
      "[[-0.27150752  0.96243632]\n",
      " [-0.96243632 -0.27150752]]\n",
      "[2.67309963 1.13488043]\n"
     ]
    }
   ],
   "source": [
    "print(pca.components_)\n",
    "last_data = data_matrix[:, -1, :]\n",
    "l_data_cen = last_data - np.mean(last_data, axis=0)\n",
    "# SVD\n",
    "U, S, V = np.linalg.svd(l_data_cen, full_matrices=False)\n",
    "print(U.shape, S.shape, V.shape)\n",
    "print(V)\n",
    "print(S)\n",
    "# Rank-1 svd\n",
    "U1 = U[:, 0]\n",
    "S1 = S[0]\n",
    "V1 = V[0, :]"
   ]
  },
  {
   "cell_type": "code",
   "execution_count": 33,
   "metadata": {},
   "outputs": [],
   "source": [
    "finite_diff_data = np.diff(data_matrix, axis=1)\n",
    "def dynamic_low_rank_approx(U, S, V, tau=1.0):\n",
    "    # U: N x r\n",
    "    # S: r\n",
    "    V = V.T # r x 2\n",
    "    U_arr, S_arr, V_arr = [U], [S], [V]\n",
    "    for i in range(num_frames-1):\n",
    "        if i == 0:\n",
    "            print(f\"Shape U[-1]: {U_arr[-1].shape}, S[-1]: {S_arr[-1].shape}, V[-1]: {V_arr[-1].shape}\")\n",
    "        K = U_arr[-1] @ S_arr[-1] # N x r\n",
    "        K_grad = finite_diff_data[:, i, :] @ V_arr[-1] # N x r\n",
    "        K = K + tau * K_grad\n",
    "\n",
    "        L = V_arr[-1] @ S_arr[-1] # 2 x r\n",
    "        L_grad = finite_diff_data[:, i, :].T @ U_arr[-1] # 2 x r\n",
    "        L = L + tau * L_grad\n",
    "\n",
    "        U_new, _ = np.linalg.qr(K)\n",
    "        V_new, _ = np.linalg.qr(L)\n",
    "        M = U_new.T @ U_arr[-1]\n",
    "        U_arr.append(U_new)\n",
    "        N = V_new.T @ V_arr[-1]\n",
    "        V_arr.append(V_new)\n",
    "\n",
    "        tilde_S = M @ S_arr[-1] @ N\n",
    "        S_grad = U_new.T @ finite_diff_data[:, i, :] @ V_new\n",
    "        S_new = tilde_S + tau * S_grad\n",
    "        S_arr.append(S_new)\n",
    "\n",
    "    # Convert to numpy arrays\n",
    "    U_arr = np.stack(U_arr, axis=0)\n",
    "    S_arr = np.stack(S_arr, axis=0)\n",
    "    V_arr = np.stack(V_arr, axis=0)\n",
    "    return U_arr, S_arr, V_arr\n",
    "\n",
    "\n",
    "first_data = data_matrix[:, 0, :]\n",
    "first_data_cen = first_data - np.mean(first_data, axis=0)\n",
    "# SVD\n",
    "U, S, V = np.linalg.svd(first_data_cen, full_matrices=False)\n",
    "U1 = U[:, 0]\n",
    "S1 = S[0]\n",
    "V1 = V[0, :]"
   ]
  },
  {
   "cell_type": "code",
   "execution_count": 37,
   "metadata": {},
   "outputs": [
    {
     "name": "stdout",
     "output_type": "stream",
     "text": [
      "Shape U[-1]: (100, 1), S[-1]: (1, 1), V[-1]: (2, 1)\n"
     ]
    },
    {
     "data": {
      "text/plain": [
       "<Figure size 1200x800 with 0 Axes>"
      ]
     },
     "metadata": {},
     "output_type": "display_data"
    },
    {
     "data": {
      "image/png": "[encoded data removed]",
      "text/plain": [
       "<Figure size 640x480 with 1 Axes>"
      ]
     },
     "metadata": {},
     "output_type": "display_data"
    }
   ],
   "source": [
    "U_arr, S_arr, V_arr = dynamic_low_rank_approx(U1[:, None], np.array([[S1]]), V1[None, :], tau=1.0)\n",
    "pca = PCA(n_components=1)\n",
    "rank1_approximations = np.zeros((N, num_frames, 2))\n",
    "for i in range(num_frames):\n",
    "    frame_data = data_matrix[:, i, :]\n",
    "    pca.fit(frame_data)\n",
    "    rank1_approximations[:, i, :] = pca.mean_ + pca.components_[0] * pca.transform(frame_data)\n",
    "\n",
    "# Rank1 approximation using dynamic low rank approximation\n",
    "rank1_approximations_dynamic = np.zeros((N, num_frames, 2))\n",
    "for i in range(num_frames):\n",
    "    frame_data = data_matrix[:, i, :]\n",
    "    rank1_approximations_dynamic[:, i, :] = U_arr[i] @ S_arr[i] @ V_arr[i].T + np.mean(frame_data, axis=0)\n",
    "\n",
    "# fig, axs = plt.subplots(2, 3, figsize=(15, 10))\n",
    "# for i, frame in enumerate(frame_to_display):\n",
    "#     ax = axs[i // 3, i % 3]\n",
    "#     ax.set_xlim(-1.2 * l, 1.2 * l)\n",
    "#     ax.set_ylim(-1.2 * l, 1.2 * l)\n",
    "#     ax.set_aspect('equal')\n",
    "#     ax.axis('off')\n",
    "#     ax.scatter(data_matrix[:, int(frame * num_frames), 0], data_matrix[:, int(frame * num_frames), 1], s=2, label='Original')\n",
    "#     ax.scatter(rank1_approximations[:, int(frame * num_frames), 0], rank1_approximations[:, int(frame * num_frames), 1], s=2, label='Rank-1 Approximation')\n",
    "#     ax.scatter(rank1_approximations_dynamic[:, int(frame * num_frames), 0], rank1_approximations_dynamic[:, int(frame * num_frames), 1], s=2, label='Dynamic Rank-1 Approximation')\n",
    "#     ax.legend()\n",
    "\n",
    "# plt.show()\n",
    "video_plot(10, rank1_approximations_dynamic, data_matrix, num_frames, fname='pendulum_rank1_approx_dynamic')\n",
    "\n",
    "# Animate the dynamic rank-1 approximation\n",
    "fig, ax = plt.subplots()\n",
    "ax.set_xlim(-1.2 * l, 1.2 * l)\n",
    "ax.set_ylim(-1.2 * l, 0.6 * l)\n",
    "ax.set_aspect('equal')\n",
    "ax.axis('off')\n",
    "\n",
    "# Create a scatter plot to visualize the sampled points\n",
    "scat = ax.scatter([], [], s=2)\n",
    "\n",
    "# Function to initialize the animation\n",
    "def init(): \n",
    "    return scat,\n",
    "\n",
    "# Function to update the animation\n",
    "def update(frame):\n",
    "    # scat.set_offsets(rank1_approximations_dynamic[:, frame, :])\n",
    "    # Plot both dynamic rank-1 approximation and static rank-1 approximation\n",
    "    scat.set_offsets(rank1_approximations_dynamic[:, frame, :])\n",
    "    return scat,\n",
    "\n",
    "# Create the animation\n",
    "ani = FuncAnimation(fig, update, frames=range(num_frames), init_func=init, blit=False, interval=dt * 1000)\n",
    "plt.show()\n",
    "ani.save('pendulum_rank1_approx_dynamic.gif', writer='pillow', fps=20)"
   ]
  },
  {
   "cell_type": "code",
   "execution_count": null,
   "metadata": {},
   "outputs": [
    {
     "data": {
      "image/png": "[encoded data removed]",
      "text/plain": [
       "<Figure size 640x480 with 1 Axes>"
      ]
     },
     "metadata": {},
     "output_type": "display_data"
    }
   ],
   "source": [
    "# MSE Loss over time\n",
    "mse_loss = np.zeros(num_frames-1)\n",
    "deriv_mse_loss = np.zeros(num_frames-1)\n",
    "mse_loss_dynamic = np.zeros(num_frames-1)\n",
    "deriv_rank1_approximations = np.diff(rank1_approximations, axis=1)\n",
    "deriv_data_matrix = np.diff(data_matrix, axis=1)\n",
    "for i in range(num_frames-1):\n",
    "    mse_loss[i] = np.mean(np.square(rank1_approximations_dynamic[:, i, :] - data_matrix[:, i, :]))\n",
    "    deriv_mse_loss[i] = np.mean(np.square(deriv_rank1_approximations[:, i, :] - deriv_data_matrix[:, i, :]))\n",
    "    mse_loss_dynamic[i] = np.mean(np.square(rank1_approximations_dynamic[:, i, :] - rank1_approximations[:, i, :]))\n",
    "\n",
    "fig, ax = plt.subplots()\n",
    "\n",
    "ax.plot(mse_loss, label='$||Y(t) - A(t)||$')\n",
    "ax.plot(deriv_mse_loss, label='$||d_tY(t) - d_tA(t)||$')\n",
    "ax.plot(mse_loss_dynamic, label='$||Y(t) - X(t)||$')\n",
    "ax.title.set_text('MSE Losses for Dynamic Rank-1 Approximation $Y(t)$')\n",
    "ax.legend()\n",
    "plt.show()\n",
    "plt.savefig('./figures/mse_losses.png')"
   ]
  },
  {
   "cell_type": "code",
   "execution_count": null,
   "metadata": {},
   "outputs": [],
   "source": []
  }
 ],
 "metadata": {
  "kernelspec": {
   "display_name": "sde_sampler",
   "language": "python",
   "name": "python3"
  },
  "language_info": {
   "codemirror_mode": {
    "name": "ipython",
    "version": 3
   },
   "file_extension": ".py",
   "mimetype": "text/x-python",
   "name": "python",
   "nbconvert_exporter": "python",
   "pygments_lexer": "ipython3",
   "version": "3.9.21"
  }
 },
 "nbformat": 4,
 "nbformat_minor": 2
}
